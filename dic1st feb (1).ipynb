{
 "cells": [
  {
   "cell_type": "code",
   "execution_count": 1,
   "id": "4b53c327-c6bf-432e-80ae-f8bebc0f699e",
   "metadata": {},
   "outputs": [],
   "source": [
    "d={}"
   ]
  },
  {
   "cell_type": "code",
   "execution_count": 2,
   "id": "7c29b829-97b4-4c38-a31f-f56896ea223a",
   "metadata": {},
   "outputs": [
    {
     "data": {
      "text/plain": [
       "dict"
      ]
     },
     "execution_count": 2,
     "metadata": {},
     "output_type": "execute_result"
    }
   ],
   "source": [
    "type(d)"
   ]
  },
  {
   "cell_type": "code",
   "execution_count": 3,
   "id": "35a4eefc-7d1c-4433-997a-809d14a70e4b",
   "metadata": {},
   "outputs": [],
   "source": [
    "d1={'james':'watt'}"
   ]
  },
  {
   "cell_type": "code",
   "execution_count": 4,
   "id": "8314f9d6-b136-4fa8-9d5b-4907f9b6b1c4",
   "metadata": {},
   "outputs": [
    {
     "data": {
      "text/plain": [
       "{'james': 'watt'}"
      ]
     },
     "execution_count": 4,
     "metadata": {},
     "output_type": "execute_result"
    }
   ],
   "source": [
    "d1"
   ]
  },
  {
   "cell_type": "code",
   "execution_count": 5,
   "id": "a60809fb-b8ec-401d-a4b1-4aacb037e3ab",
   "metadata": {},
   "outputs": [],
   "source": [
    "d2={'name':'soni','num':70056}"
   ]
  },
  {
   "cell_type": "code",
   "execution_count": 6,
   "id": "1c8388a5-8651-4f7a-9e45-df79b6dc87f8",
   "metadata": {},
   "outputs": [
    {
     "data": {
      "text/plain": [
       "{'name': 'soni', 'num': 70056}"
      ]
     },
     "execution_count": 6,
     "metadata": {},
     "output_type": "execute_result"
    }
   ],
   "source": [
    "d2"
   ]
  },
  {
   "cell_type": "code",
   "execution_count": 7,
   "id": "f6a91811-a188-401d-b95c-b8084afec22d",
   "metadata": {},
   "outputs": [],
   "source": [
    "d3={'kum':34,\"@wer\":'kumari'}"
   ]
  },
  {
   "cell_type": "code",
   "execution_count": 8,
   "id": "e3d134c4-4498-4eea-98a6-4c6052e03493",
   "metadata": {},
   "outputs": [
    {
     "data": {
      "text/plain": [
       "{'kum': 34, '@wer': 'kumari'}"
      ]
     },
     "execution_count": 8,
     "metadata": {},
     "output_type": "execute_result"
    }
   ],
   "source": [
    "d3"
   ]
  },
  {
   "cell_type": "code",
   "execution_count": 9,
   "id": "82bd2988-0a07-45bc-be14-0c67a4b34424",
   "metadata": {},
   "outputs": [
    {
     "ename": "NameError",
     "evalue": "name 'kum' is not defined",
     "output_type": "error",
     "traceback": [
      "\u001b[0;31m---------------------------------------------------------------------------\u001b[0m",
      "\u001b[0;31mNameError\u001b[0m                                 Traceback (most recent call last)",
      "Cell \u001b[0;32mIn[9], line 1\u001b[0m\n\u001b[0;32m----> 1\u001b[0m d3[\u001b[43mkum\u001b[49m]\n",
      "\u001b[0;31mNameError\u001b[0m: name 'kum' is not defined"
     ]
    }
   ],
   "source": [
    "d3[kum]"
   ]
  },
  {
   "cell_type": "code",
   "execution_count": 10,
   "id": "8d99b3b2-2d70-4319-a40d-4dcf6ddff28f",
   "metadata": {},
   "outputs": [
    {
     "data": {
      "text/plain": [
       "34"
      ]
     },
     "execution_count": 10,
     "metadata": {},
     "output_type": "execute_result"
    }
   ],
   "source": [
    "d3['kum']"
   ]
  },
  {
   "cell_type": "code",
   "execution_count": 11,
   "id": "1eeb3ee8-feea-48c6-96cc-49fb6c0a399e",
   "metadata": {},
   "outputs": [
    {
     "data": {
      "text/plain": [
       "'kumari'"
      ]
     },
     "execution_count": 11,
     "metadata": {},
     "output_type": "execute_result"
    }
   ],
   "source": [
    "d3[\"@wer\"]"
   ]
  },
  {
   "cell_type": "code",
   "execution_count": 12,
   "id": "16f0454e-cdf3-4039-ae7f-53b44ab1463a",
   "metadata": {},
   "outputs": [],
   "source": [
    "d4={'stud':['soni','payal','sita'],'roll no':[1,2,3]}"
   ]
  },
  {
   "cell_type": "code",
   "execution_count": 13,
   "id": "b752f385-4ecc-4053-b13a-fc9e84c604eb",
   "metadata": {},
   "outputs": [
    {
     "data": {
      "text/plain": [
       "{'stud': ['soni', 'payal', 'sita'], 'roll no': [1, 2, 3]}"
      ]
     },
     "execution_count": 13,
     "metadata": {},
     "output_type": "execute_result"
    }
   ],
   "source": [
    "d4"
   ]
  },
  {
   "cell_type": "code",
   "execution_count": 15,
   "id": "fb50bd28-443a-41db-b41d-3f75272b5e30",
   "metadata": {},
   "outputs": [
    {
     "data": {
      "text/plain": [
       "'payal'"
      ]
     },
     "execution_count": 15,
     "metadata": {},
     "output_type": "execute_result"
    }
   ],
   "source": [
    "d4['stud'][1]"
   ]
  },
  {
   "cell_type": "code",
   "execution_count": 16,
   "id": "70ca654b-efbf-4ea3-95b7-796702ae7766",
   "metadata": {},
   "outputs": [
    {
     "data": {
      "text/plain": [
       "1"
      ]
     },
     "execution_count": 16,
     "metadata": {},
     "output_type": "execute_result"
    }
   ],
   "source": [
    "d4['roll no'][0]"
   ]
  },
  {
   "cell_type": "code",
   "execution_count": 1,
   "id": "e72e4c79-0d4b-4661-a0c7-a94eacf8d4d1",
   "metadata": {},
   "outputs": [],
   "source": [
    "d5={\"num\":[1,2,3,4,5],'assign':'cat','dob':{23 ,45,67,56},'d6':{'mon':7,'tues':8,'wed':9}}"
   ]
  },
  {
   "cell_type": "code",
   "execution_count": 2,
   "id": "89ea426e-8e49-47a1-a71a-d16c3bd24050",
   "metadata": {},
   "outputs": [
    {
     "data": {
      "text/plain": [
       "{'num': [1, 2, 3, 4, 5],\n",
       " 'assign': 'cat',\n",
       " 'dob': {23, 45, 56, 67},\n",
       " 'd6': {'mon': 7, 'tues': 8, 'wed': 9}}"
      ]
     },
     "execution_count": 2,
     "metadata": {},
     "output_type": "execute_result"
    }
   ],
   "source": [
    "d5"
   ]
  },
  {
   "cell_type": "code",
   "execution_count": 3,
   "id": "28ae2fc7-d85a-410a-9ec1-9d9732a56402",
   "metadata": {},
   "outputs": [
    {
     "data": {
      "text/plain": [
       "{'mon': 7, 'tues': 8, 'wed': 9}"
      ]
     },
     "execution_count": 3,
     "metadata": {},
     "output_type": "execute_result"
    }
   ],
   "source": [
    "d5['d6']"
   ]
  },
  {
   "cell_type": "code",
   "execution_count": 4,
   "id": "c1ca03a3-bda1-45de-831f-939068e321af",
   "metadata": {},
   "outputs": [
    {
     "data": {
      "text/plain": [
       "7"
      ]
     },
     "execution_count": 4,
     "metadata": {},
     "output_type": "execute_result"
    }
   ],
   "source": [
    "d5['d6']['mon']"
   ]
  },
  {
   "cell_type": "code",
   "execution_count": 5,
   "id": "0c53a186-26a4-4c00-9763-093a50d64355",
   "metadata": {},
   "outputs": [
    {
     "data": {
      "text/plain": [
       "{'num': [1, 2, 3, 4, 5],\n",
       " 'assign': 'cat',\n",
       " 'dob': {23, 45, 56, 67},\n",
       " 'd6': {'mon': 7, 'tues': 8, 'wed': 9}}"
      ]
     },
     "execution_count": 5,
     "metadata": {},
     "output_type": "execute_result"
    }
   ],
   "source": [
    "d5"
   ]
  },
  {
   "cell_type": "code",
   "execution_count": 6,
   "id": "ba09e7c4-381e-48b4-8fb9-d5d25b025169",
   "metadata": {},
   "outputs": [],
   "source": [
    "d5['mentor']=['sudhanshu','kris','anurag']"
   ]
  },
  {
   "cell_type": "code",
   "execution_count": 7,
   "id": "8f61273d-97f8-41ef-96b7-1239c529ec89",
   "metadata": {},
   "outputs": [
    {
     "data": {
      "text/plain": [
       "{'num': [1, 2, 3, 4, 5],\n",
       " 'assign': 'cat',\n",
       " 'dob': {23, 45, 56, 67},\n",
       " 'd6': {'mon': 7, 'tues': 8, 'wed': 9},\n",
       " 'mentor': ['sudhanshu', 'kris', 'anurag']}"
      ]
     },
     "execution_count": 7,
     "metadata": {},
     "output_type": "execute_result"
    }
   ],
   "source": [
    "d5"
   ]
  },
  {
   "cell_type": "code",
   "execution_count": 8,
   "id": "ad039b51-64a3-4955-95ba-5f31a6fa1291",
   "metadata": {},
   "outputs": [],
   "source": [
    "del d5['assign']"
   ]
  },
  {
   "cell_type": "code",
   "execution_count": 9,
   "id": "3549c11a-573c-4b66-a51b-319ae2120d4d",
   "metadata": {},
   "outputs": [
    {
     "data": {
      "text/plain": [
       "{'num': [1, 2, 3, 4, 5],\n",
       " 'dob': {23, 45, 56, 67},\n",
       " 'd6': {'mon': 7, 'tues': 8, 'wed': 9},\n",
       " 'mentor': ['sudhanshu', 'kris', 'anurag']}"
      ]
     },
     "execution_count": 9,
     "metadata": {},
     "output_type": "execute_result"
    }
   ],
   "source": [
    "d5"
   ]
  },
  {
   "cell_type": "code",
   "execution_count": 10,
   "id": "3caa1e6a-2764-4a7c-a3d1-0f46fae38e1d",
   "metadata": {},
   "outputs": [
    {
     "data": {
      "text/plain": [
       "dict_keys(['num', 'dob', 'd6', 'mentor'])"
      ]
     },
     "execution_count": 10,
     "metadata": {},
     "output_type": "execute_result"
    }
   ],
   "source": [
    "d5.keys()"
   ]
  },
  {
   "cell_type": "code",
   "execution_count": 11,
   "id": "4a87305e-f064-4f5c-9dc5-2692efc1013b",
   "metadata": {},
   "outputs": [
    {
     "data": {
      "text/plain": [
       "dict_values([[1, 2, 3, 4, 5], {56, 67, 45, 23}, {'mon': 7, 'tues': 8, 'wed': 9}, ['sudhanshu', 'kris', 'anurag']])"
      ]
     },
     "execution_count": 11,
     "metadata": {},
     "output_type": "execute_result"
    }
   ],
   "source": [
    "d5.values()"
   ]
  },
  {
   "cell_type": "code",
   "execution_count": 12,
   "id": "1ef0a58b-04b2-4a6d-8573-b917d256402e",
   "metadata": {},
   "outputs": [
    {
     "data": {
      "text/plain": [
       "dict_items([('num', [1, 2, 3, 4, 5]), ('dob', {56, 67, 45, 23}), ('d6', {'mon': 7, 'tues': 8, 'wed': 9}), ('mentor', ['sudhanshu', 'kris', 'anurag'])])"
      ]
     },
     "execution_count": 12,
     "metadata": {},
     "output_type": "execute_result"
    }
   ],
   "source": [
    "d5.items()"
   ]
  },
  {
   "cell_type": "code",
   "execution_count": 13,
   "id": "8d1c5c5e-52f6-4088-8184-994ca4570638",
   "metadata": {},
   "outputs": [
    {
     "data": {
      "text/plain": [
       "[('num', [1, 2, 3, 4, 5]),\n",
       " ('dob', {23, 45, 56, 67}),\n",
       " ('d6', {'mon': 7, 'tues': 8, 'wed': 9}),\n",
       " ('mentor', ['sudhanshu', 'kris', 'anurag'])]"
      ]
     },
     "execution_count": 13,
     "metadata": {},
     "output_type": "execute_result"
    }
   ],
   "source": [
    "list(d5.items())"
   ]
  },
  {
   "cell_type": "code",
   "execution_count": 14,
   "id": "d2cec2d5-0651-4004-9270-24cf6fe74c35",
   "metadata": {},
   "outputs": [
    {
     "data": {
      "text/plain": [
       "[1, 2, 3, 4, 5]"
      ]
     },
     "execution_count": 14,
     "metadata": {},
     "output_type": "execute_result"
    }
   ],
   "source": [
    "d5.pop('num')"
   ]
  },
  {
   "cell_type": "code",
   "execution_count": 15,
   "id": "b935a989-53a4-40f9-91b4-986b07be73e7",
   "metadata": {},
   "outputs": [
    {
     "data": {
      "text/plain": [
       "{'dob': {23, 45, 56, 67},\n",
       " 'd6': {'mon': 7, 'tues': 8, 'wed': 9},\n",
       " 'mentor': ['sudhanshu', 'kris', 'anurag']}"
      ]
     },
     "execution_count": 15,
     "metadata": {},
     "output_type": "execute_result"
    }
   ],
   "source": [
    "d5"
   ]
  },
  {
   "cell_type": "code",
   "execution_count": 1,
   "id": "3c19b46f-19ce-4e87-b1f6-1d58c161a10d",
   "metadata": {},
   "outputs": [
    {
     "name": "stdin",
     "output_type": "stream",
     "text": [
      "enter your marks 58\n"
     ]
    },
    {
     "name": "stdout",
     "output_type": "stream",
     "text": [
      "you will be a part of A2 batch\n"
     ]
    }
   ],
   "source": [
    "marks=int(input(\"enter your marks\"))\n",
    "if marks >=80:\n",
    "    print(\"you will be a part of A0 batch\")\n",
    "elif marks >=60 and marks< 80 :\n",
    "        print(\"you will be a part of A1 batch\")\n",
    "elif marks >=40 and marks <  60 :\n",
    "            print(\"you will be a part of A2 batch\")\n",
    "else:\n",
    "                print(\"you will be a part of A3 batch\")\n",
    "                "
   ]
  },
  {
   "cell_type": "markdown",
   "id": "c4541800-e880-43fa-824e-8f03ae1e3cc8",
   "metadata": {
    "jp-MarkdownHeadingCollapsed": true,
    "tags": []
   },
   "source": [
    " price = int(input(\"enter price\"))\n",
    "if price >2000:\n",
    "    print(\"I will not purchase\")\n",
    "else :\n",
    "      print(\"I will purchase\")"
   ]
  },
  {
   "cell_type": "markdown",
   "id": "3e389f81-fa76-47cd-8cea-3f0e5258fec8",
   "metadata": {
    "jp-MarkdownHeadingCollapsed": true,
    "tags": []
   },
   "source": [
    " price = int(input(\"enter price\"))\n",
    "if price >2000:\n",
    "    print(\"I will not purchase\")\n",
    "else :\n",
    "      print(\"I will purchase\")"
   ]
  },
  {
   "cell_type": "code",
   "execution_count": 8,
   "id": "bdba7eed-7fc0-442d-8e8d-78bce69e5204",
   "metadata": {},
   "outputs": [
    {
     "name": "stdin",
     "output_type": "stream",
     "text": [
      "enter price 800\n"
     ]
    },
    {
     "name": "stdout",
     "output_type": "stream",
     "text": [
      "I will not purchase\n"
     ]
    }
   ],
   "source": [
    "price=int(input(\"enter price\"))\n",
    "if price > 5000 :\n",
    "    print(\"I will purchase\")\n",
    "elif    price < 1000 :\n",
    "        print(\"I will not purchase\")"
   ]
  },
  {
   "cell_type": "code",
   "execution_count": 9,
   "id": "46ead7f2-5fe8-4ad8-8ba1-56e26438b334",
   "metadata": {},
   "outputs": [],
   "source": [
    "l=[1,2,3,4,5]"
   ]
  },
  {
   "cell_type": "code",
   "execution_count": 9,
   "id": "6936a156-dd99-4f8d-9b25-8485ab323032",
   "metadata": {},
   "outputs": [],
   "source": [
    "l=[1,2,3,4,5]"
   ]
  },
  {
   "cell_type": "code",
   "execution_count": 10,
   "id": "f1879a4f-2c41-4602-b086-3b5e99ec54b0",
   "metadata": {},
   "outputs": [
    {
     "data": {
      "text/plain": [
       "2"
      ]
     },
     "execution_count": 10,
     "metadata": {},
     "output_type": "execute_result"
    }
   ],
   "source": [
    "l[0]+1"
   ]
  },
  {
   "cell_type": "code",
   "execution_count": 11,
   "id": "e44ad690-8855-4e6a-87d3-d0b31699790e",
   "metadata": {},
   "outputs": [],
   "source": [
    "l1=[]"
   ]
  },
  {
   "cell_type": "code",
   "execution_count": 12,
   "id": "4b515044-b781-4f4b-8416-4f418d3ffdd8",
   "metadata": {},
   "outputs": [],
   "source": [
    "l1.append(l[0]+1)"
   ]
  },
  {
   "cell_type": "code",
   "execution_count": 13,
   "id": "afebcbb4-e5bd-49d7-aa41-60609bb0d58a",
   "metadata": {},
   "outputs": [
    {
     "data": {
      "text/plain": [
       "[2]"
      ]
     },
     "execution_count": 13,
     "metadata": {},
     "output_type": "execute_result"
    }
   ],
   "source": [
    "l1"
   ]
  },
  {
   "cell_type": "code",
   "execution_count": 1,
   "id": "3bce60c6-d2f2-4c77-af0b-d38d01e99309",
   "metadata": {},
   "outputs": [],
   "source": [
    "l=[1,2,3,4,5,6,7,8,9]"
   ]
  },
  {
   "cell_type": "code",
   "execution_count": 6,
   "id": "03e9300b-e6b4-4ac7-9cec-177b1717cd40",
   "metadata": {},
   "outputs": [
    {
     "name": "stdout",
     "output_type": "stream",
     "text": [
      "2\n",
      "3\n",
      "4\n",
      "5\n",
      "6\n",
      "7\n",
      "8\n",
      "9\n",
      "10\n"
     ]
    }
   ],
   "source": [
    "l1=[]\n",
    "for i in l :\n",
    "    print(i+1)\n",
    "    l1.append(i+1)\n",
    "    "
   ]
  },
  {
   "cell_type": "code",
   "execution_count": 9,
   "id": "ad722237-7ade-4e6e-a07d-b514d034eb2d",
   "metadata": {},
   "outputs": [],
   "source": [
    "l=[\"soni\",\"kumari\",\"bnc\",\"engg\"]"
   ]
  },
  {
   "cell_type": "code",
   "execution_count": 10,
   "id": "5c4ead6e-963d-48ac-a5ba-dfdbeecbd5b6",
   "metadata": {},
   "outputs": [
    {
     "name": "stdout",
     "output_type": "stream",
     "text": [
      "soni\n",
      "kumari\n",
      "bnc\n",
      "engg\n"
     ]
    }
   ],
   "source": [
    "l1=[]\n",
    "for i in l :\n",
    "    print(i)\n",
    "    l1.append(i.upper())"
   ]
  },
  {
   "cell_type": "code",
   "execution_count": 11,
   "id": "3e32c1ef-c2cc-40b9-b723-73697e265790",
   "metadata": {},
   "outputs": [
    {
     "data": {
      "text/plain": [
       "['SONI', 'KUMARI', 'BNC', 'ENGG']"
      ]
     },
     "execution_count": 11,
     "metadata": {},
     "output_type": "execute_result"
    }
   ],
   "source": [
    "l1"
   ]
  },
  {
   "cell_type": "code",
   "execution_count": 12,
   "id": "701d712d-baca-4de0-94f0-354461340806",
   "metadata": {},
   "outputs": [],
   "source": [
    "l=[1,2,3,4,\"soni\",\"kumari\",24.55,54.21]"
   ]
  },
  {
   "cell_type": "code",
   "execution_count": 19,
   "id": "3f9bf762-6190-4fd0-acb1-75c27ba0f81d",
   "metadata": {},
   "outputs": [],
   "source": [
    "lnum=[]\n",
    "l2_str=[]\n",
    "for i in l :\n",
    "    if type(i)== int or type(i)==float :\n",
    "        lnum.append(i)\n",
    "    else :\n",
    "            l2_str.append(i)\n",
    "    "
   ]
  },
  {
   "cell_type": "code",
   "execution_count": 17,
   "id": "fb396600-7ea5-4e06-ac9a-1a03f228f18a",
   "metadata": {},
   "outputs": [
    {
     "data": {
      "text/plain": [
       "[]"
      ]
     },
     "execution_count": 17,
     "metadata": {},
     "output_type": "execute_result"
    }
   ],
   "source": [
    "l1_num"
   ]
  },
  {
   "cell_type": "code",
   "execution_count": 18,
   "id": "8d8442bb-7a47-4faf-b190-1fa08d07931e",
   "metadata": {},
   "outputs": [
    {
     "data": {
      "text/plain": [
       "['soni', 'kumari']"
      ]
     },
     "execution_count": 18,
     "metadata": {},
     "output_type": "execute_result"
    }
   ],
   "source": [
    "l2_str"
   ]
  },
  {
   "cell_type": "code",
   "execution_count": 20,
   "id": "a7586d24-4a75-48e5-a47a-0a54544ce4ce",
   "metadata": {},
   "outputs": [
    {
     "data": {
      "text/plain": [
       "[1, 2, 3, 4, 24.55, 54.21]"
      ]
     },
     "execution_count": 20,
     "metadata": {},
     "output_type": "execute_result"
    }
   ],
   "source": [
    "lnum"
   ]
  },
  {
   "cell_type": "code",
   "execution_count": null,
   "id": "757c775b-3962-45fd-845c-e76fcaf32afc",
   "metadata": {},
   "outputs": [],
   "source": []
  }
 ],
 "metadata": {
  "kernelspec": {
   "display_name": "Python 3 (ipykernel)",
   "language": "python",
   "name": "python3"
  },
  "language_info": {
   "codemirror_mode": {
    "name": "ipython",
    "version": 3
   },
   "file_extension": ".py",
   "mimetype": "text/x-python",
   "name": "python",
   "nbconvert_exporter": "python",
   "pygments_lexer": "ipython3",
   "version": "3.10.8"
  }
 },
 "nbformat": 4,
 "nbformat_minor": 5
}
